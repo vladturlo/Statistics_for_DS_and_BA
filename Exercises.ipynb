{
 "cells": [
  {
   "cell_type": "markdown",
   "metadata": {},
   "source": [
    "# Categorical variables. Visualization techniques"
   ]
  },
  {
   "cell_type": "markdown",
   "metadata": {},
   "source": [
    "## Background\t\n",
    "There is an ice cream shop, that is operating in New York, LA and San Francisco.\t\n",
    "### Data\t\n",
    "You have sold 12,327 ice creams in New York; 17,129 in LA and 19,923 in San Francisco.\t\n",
    "### Task\t\n",
    "Order the data in a frequency distribution table.\t\n",
    "Create a new column in your table, representing the relative frequency of input. You can choose to express it in percentages or as a decimal.\t\t"
   ]
  },
  {
   "cell_type": "code",
   "execution_count": 1,
   "metadata": {},
   "outputs": [
    {
     "data": {
      "text/html": [
       "<div>\n",
       "<style scoped>\n",
       "    .dataframe tbody tr th:only-of-type {\n",
       "        vertical-align: middle;\n",
       "    }\n",
       "\n",
       "    .dataframe tbody tr th {\n",
       "        vertical-align: top;\n",
       "    }\n",
       "\n",
       "    .dataframe thead th {\n",
       "        text-align: right;\n",
       "    }\n",
       "</style>\n",
       "<table border=\"1\" class=\"dataframe\">\n",
       "  <thead>\n",
       "    <tr style=\"text-align: right;\">\n",
       "      <th></th>\n",
       "      <th>Frequency</th>\n",
       "      <th>Relative frequency</th>\n",
       "    </tr>\n",
       "  </thead>\n",
       "  <tbody>\n",
       "    <tr>\n",
       "      <th>New York</th>\n",
       "      <td>12327</td>\n",
       "      <td>0.249641</td>\n",
       "    </tr>\n",
       "    <tr>\n",
       "      <th>LA</th>\n",
       "      <td>17129</td>\n",
       "      <td>0.346888</td>\n",
       "    </tr>\n",
       "    <tr>\n",
       "      <th>San Francisco</th>\n",
       "      <td>19923</td>\n",
       "      <td>0.403471</td>\n",
       "    </tr>\n",
       "  </tbody>\n",
       "</table>\n",
       "</div>"
      ],
      "text/plain": [
       "               Frequency  Relative frequency\n",
       "New York           12327            0.249641\n",
       "LA                 17129            0.346888\n",
       "San Francisco      19923            0.403471"
      ]
     },
     "execution_count": 1,
     "metadata": {},
     "output_type": "execute_result"
    }
   ],
   "source": [
    "# import pandas module\n",
    "import pandas as pd\n",
    "\n",
    "# create a frequency distribution table as a pandas dataframe\n",
    "fdt = pd.DataFrame({'Frequency' : [12327, 17129, 19923]}, index = ['New York', 'LA', 'San Francisco'])\n",
    "\n",
    "# add relative frequency to the table\n",
    "fdt['Relative frequency'] = fdt['Frequency']/fdt['Frequency'].sum()\n",
    "fdt"
   ]
  },
  {
   "cell_type": "markdown",
   "metadata": {},
   "source": [
    "## Background\t\n",
    "You have a frequency distribution table with all the sales.\t\n",
    "### Task\t\n",
    "Create a bar chart, representing the data. "
   ]
  },
  {
   "cell_type": "code",
   "execution_count": 2,
   "metadata": {},
   "outputs": [
    {
     "data": {
      "text/plain": [
       "<matplotlib.axes._subplots.AxesSubplot at 0x24451e8deb8>"
      ]
     },
     "execution_count": 2,
     "metadata": {},
     "output_type": "execute_result"
    }
   ],
   "source": [
    "fdt.plot.bar(y='Frequency')"
   ]
  },
  {
   "cell_type": "markdown",
   "metadata": {},
   "source": [
    "### Task\t\n",
    "Create a pie chart, representing the share of each city to the sales of your company.\t\t"
   ]
  },
  {
   "cell_type": "code",
   "execution_count": 3,
   "metadata": {},
   "outputs": [
    {
     "data": {
      "text/plain": [
       "<matplotlib.axes._subplots.AxesSubplot at 0x244521bf8d0>"
      ]
     },
     "execution_count": 3,
     "metadata": {},
     "output_type": "execute_result"
    },
    {
     "data": {
      "image/png": "[encoded data removed]",
      "text/plain": [
       "<Figure size 432x288 with 1 Axes>"
      ]
     },
     "metadata": {},
     "output_type": "display_data"
    }
   ],
   "source": [
    "fdt.plot.pie(y='Relative frequency')"
   ]
  },
  {
   "cell_type": "markdown",
   "metadata": {},
   "source": [
    "## Background\t\n",
    "You have a frequency distribution table with all the sales. You also have the relative frequency from the pie chart problem.\n",
    "### Task 1\t\n",
    "Order the table by frequency."
   ]
  },
  {
   "cell_type": "code",
   "execution_count": 4,
   "metadata": {},
   "outputs": [],
   "source": [
    "fdt = fdt.sort_values(by='Frequency', ascending=False)"
   ]
  },
  {
   "cell_type": "markdown",
   "metadata": {},
   "source": [
    "### Task 2\n",
    "Create a bar (column) chart representing the ordered data."
   ]
  },
  {
   "cell_type": "code",
   "execution_count": 5,
   "metadata": {},
   "outputs": [
    {
     "data": {
      "text/plain": [
       "<matplotlib.axes._subplots.AxesSubplot at 0x2445236a358>"
      ]
     },
     "execution_count": 5,
     "metadata": {},
     "output_type": "execute_result"
    },
    {
     "data": {
      "image/png": "[encoded data removed]",
      "text/plain": [
       "<Figure size 432x288 with 1 Axes>"
      ]
     },
     "metadata": {
      "needs_background": "light"
     },
     "output_type": "display_data"
    }
   ],
   "source": [
    "fdt.plot.bar(y='Frequency')"
   ]
  },
  {
   "cell_type": "markdown",
   "metadata": {},
   "source": [
    "### Task 3\t\n",
    "In a new column, calculate the cumulative frequency of the data. \t"
   ]
  },
  {
   "cell_type": "code",
   "execution_count": 6,
   "metadata": {},
   "outputs": [
    {
     "data": {
      "text/html": [
       "<div>\n",
       "<style scoped>\n",
       "    .dataframe tbody tr th:only-of-type {\n",
       "        vertical-align: middle;\n",
       "    }\n",
       "\n",
       "    .dataframe tbody tr th {\n",
       "        vertical-align: top;\n",
       "    }\n",
       "\n",
       "    .dataframe thead th {\n",
       "        text-align: right;\n",
       "    }\n",
       "</style>\n",
       "<table border=\"1\" class=\"dataframe\">\n",
       "  <thead>\n",
       "    <tr style=\"text-align: right;\">\n",
       "      <th></th>\n",
       "      <th>Frequency</th>\n",
       "      <th>Relative frequency</th>\n",
       "      <th>Cumulative frequency</th>\n",
       "    </tr>\n",
       "  </thead>\n",
       "  <tbody>\n",
       "    <tr>\n",
       "      <th>San Francisco</th>\n",
       "      <td>19923</td>\n",
       "      <td>0.403471</td>\n",
       "      <td>0.403471</td>\n",
       "    </tr>\n",
       "    <tr>\n",
       "      <th>LA</th>\n",
       "      <td>17129</td>\n",
       "      <td>0.346888</td>\n",
       "      <td>0.750359</td>\n",
       "    </tr>\n",
       "    <tr>\n",
       "      <th>New York</th>\n",
       "      <td>12327</td>\n",
       "      <td>0.249641</td>\n",
       "      <td>1.000000</td>\n",
       "    </tr>\n",
       "  </tbody>\n",
       "</table>\n",
       "</div>"
      ],
      "text/plain": [
       "               Frequency  Relative frequency  Cumulative frequency\n",
       "San Francisco      19923            0.403471              0.403471\n",
       "LA                 17129            0.346888              0.750359\n",
       "New York           12327            0.249641              1.000000"
      ]
     },
     "execution_count": 6,
     "metadata": {},
     "output_type": "execute_result"
    }
   ],
   "source": [
    "fdt['Cumulative frequency'] = fdt.Frequency.cumsum()/fdt.Frequency.sum()\n",
    "fdt"
   ]
  },
  {
   "cell_type": "markdown",
   "metadata": {},
   "source": [
    "### Task 4\t\n",
    "On a second axis in the same chart, represent the cumulative frequency of the data."
   ]
  },
  {
   "cell_type": "code",
   "execution_count": 7,
   "metadata": {},
   "outputs": [
    {
     "data": {
      "text/plain": [
       "<matplotlib.axes._subplots.AxesSubplot at 0x244523ccf98>"
      ]
     },
     "execution_count": 7,
     "metadata": {},
     "output_type": "execute_result"
    },
    {
     "data": {
      "image/png": "[encoded data removed]",
      "text/plain": [
       "<Figure size 432x288 with 2 Axes>"
      ]
     },
     "metadata": {
      "needs_background": "light"
     },
     "output_type": "display_data"
    }
   ],
   "source": [
    "import matplotlib.pyplot as plt\n",
    "fig, ax = plt.subplots()\n",
    "fdt.plot(ax=ax, y='Cumulative frequency', style='ro-', secondary_y=True)\n",
    "fdt.plot.bar(ax=ax, y='Frequency')"
   ]
  },
  {
   "cell_type": "markdown",
   "metadata": {},
   "source": [
    "# Numerical variables. Frequency distribution table"
   ]
  },
  {
   "cell_type": "markdown",
   "metadata": {},
   "source": [
    "## Background\n",
    "You are given a dataset"
   ]
  },
  {
   "cell_type": "code",
   "execution_count": 8,
   "metadata": {},
   "outputs": [
    {
     "data": {
      "text/plain": [
       "0       8\n",
       "1      30\n",
       "2      30\n",
       "3      50\n",
       "4      86\n",
       "5      94\n",
       "6     102\n",
       "7     110\n",
       "8     169\n",
       "9     170\n",
       "10    176\n",
       "11    236\n",
       "12    240\n",
       "13    241\n",
       "14    242\n",
       "15    255\n",
       "16    262\n",
       "17    276\n",
       "18    279\n",
       "19    282\n",
       "dtype: int64"
      ]
     },
     "execution_count": 8,
     "metadata": {},
     "output_type": "execute_result"
    }
   ],
   "source": [
    "Dataset = pd.Series([8, 30, 30, 50, 86, 94, 102, 110, 169, 170, 176, 236, 240, 241, 242, 255, 262, 276, 279, 282])\n",
    "Dataset"
   ]
  },
  {
   "cell_type": "markdown",
   "metadata": {},
   "source": [
    "### Task 1\n",
    "Given that we want to divide the numbers into 6 intervals of equal width, calculate that interval width. Round up to the nearest whole number, bigger than the result that you obtain\t\t\t\t\t\t\t\t\n"
   ]
  },
  {
   "cell_type": "code",
   "execution_count": 9,
   "metadata": {},
   "outputs": [
    {
     "data": {
      "text/plain": [
       "46"
      ]
     },
     "execution_count": 9,
     "metadata": {},
     "output_type": "execute_result"
    }
   ],
   "source": [
    "min_value = Dataset.min()\n",
    "max_value = Dataset.max()\n",
    "width = int((max_value-min_value)/6+1)\n",
    "width"
   ]
  },
  {
   "cell_type": "markdown",
   "metadata": {},
   "source": [
    "### Task 2\n",
    "Create a frequency distribution table that shows\n",
    "1. The intervals \n",
    "\n",
    "2. The absolute frequency of each interval\n",
    "\n",
    "3. The relative frequency of each interval\n"
   ]
  },
  {
   "cell_type": "code",
   "execution_count": 10,
   "metadata": {},
   "outputs": [
    {
     "name": "stdout",
     "output_type": "stream",
     "text": [
      "[8, 54)       4\n",
      "[54, 100)     2\n",
      "[100, 146)    2\n",
      "[146, 192)    3\n",
      "[192, 238)    1\n",
      "[238, 284)    8\n",
      "dtype: int64\n",
      "[8, 54)       0.20\n",
      "[54, 100)     0.10\n",
      "[100, 146)    0.10\n",
      "[146, 192)    0.15\n",
      "[192, 238)    0.05\n",
      "[238, 284)    0.40\n",
      "dtype: float64\n"
     ]
    },
    {
     "data": {
      "text/plain": [
       "[[Interval(8, 54, closed='left'), 4, 0.2],\n",
       " [Interval(54, 100, closed='left'), 2, 0.1],\n",
       " [Interval(100, 146, closed='left'), 2, 0.1],\n",
       " [Interval(146, 192, closed='left'), 3, 0.15],\n",
       " [Interval(192, 238, closed='left'), 1, 0.05],\n",
       " [Interval(238, 284, closed='left'), 8, 0.4]]"
      ]
     },
     "execution_count": 10,
     "metadata": {},
     "output_type": "execute_result"
    }
   ],
   "source": [
    "intervals = pd.interval_range(start = min_value, periods = 6, freq = width, closed = 'left')\n",
    "abs_freq = pd.cut(Dataset, intervals).value_counts(sort = False, normalize = False)\n",
    "print(abs_freq)\n",
    "rel_freq = pd.cut(Dataset, intervals).value_counts(sort = False, normalize = True)\n",
    "print(rel_freq)\n",
    "table = [[i,a,r] for i,a,r in zip(intervals,abs_freq.get_values(), rel_freq.get_values())]\n",
    "table"
   ]
  },
  {
   "cell_type": "code",
   "execution_count": 11,
   "metadata": {},
   "outputs": [
    {
     "data": {
      "text/html": [
       "<div>\n",
       "<style scoped>\n",
       "    .dataframe tbody tr th:only-of-type {\n",
       "        vertical-align: middle;\n",
       "    }\n",
       "\n",
       "    .dataframe tbody tr th {\n",
       "        vertical-align: top;\n",
       "    }\n",
       "\n",
       "    .dataframe thead th {\n",
       "        text-align: right;\n",
       "    }\n",
       "</style>\n",
       "<table border=\"1\" class=\"dataframe\">\n",
       "  <thead>\n",
       "    <tr style=\"text-align: right;\">\n",
       "      <th></th>\n",
       "      <th>Absolute Frequency</th>\n",
       "      <th>Relative Frequency</th>\n",
       "    </tr>\n",
       "    <tr>\n",
       "      <th>Interval</th>\n",
       "      <th></th>\n",
       "      <th></th>\n",
       "    </tr>\n",
       "  </thead>\n",
       "  <tbody>\n",
       "    <tr>\n",
       "      <th>[8, 54)</th>\n",
       "      <td>4</td>\n",
       "      <td>0.20</td>\n",
       "    </tr>\n",
       "    <tr>\n",
       "      <th>[54, 100)</th>\n",
       "      <td>2</td>\n",
       "      <td>0.10</td>\n",
       "    </tr>\n",
       "    <tr>\n",
       "      <th>[100, 146)</th>\n",
       "      <td>2</td>\n",
       "      <td>0.10</td>\n",
       "    </tr>\n",
       "    <tr>\n",
       "      <th>[146, 192)</th>\n",
       "      <td>3</td>\n",
       "      <td>0.15</td>\n",
       "    </tr>\n",
       "    <tr>\n",
       "      <th>[192, 238)</th>\n",
       "      <td>1</td>\n",
       "      <td>0.05</td>\n",
       "    </tr>\n",
       "    <tr>\n",
       "      <th>[238, 284)</th>\n",
       "      <td>8</td>\n",
       "      <td>0.40</td>\n",
       "    </tr>\n",
       "  </tbody>\n",
       "</table>\n",
       "</div>"
      ],
      "text/plain": [
       "            Absolute Frequency  Relative Frequency\n",
       "Interval                                          \n",
       "[8, 54)                      4                0.20\n",
       "[54, 100)                    2                0.10\n",
       "[100, 146)                   2                0.10\n",
       "[146, 192)                   3                0.15\n",
       "[192, 238)                   1                0.05\n",
       "[238, 284)                   8                0.40"
      ]
     },
     "execution_count": 11,
     "metadata": {},
     "output_type": "execute_result"
    }
   ],
   "source": [
    "frequency = pd.DataFrame(data = table, columns = [\"Interval\",\"Absolute Frequency\",\"Relative Frequency\"]).set_index(\"Interval\")\n",
    "frequency"
   ]
  },
  {
   "cell_type": "markdown",
   "metadata": {},
   "source": [
    "### Task 3\n",
    "Repeat task 1 and 2, but this time, use the exact interval width. Don't round up to the nearest whole number, that is.\n"
   ]
  },
  {
   "cell_type": "code",
   "execution_count": 12,
   "metadata": {},
   "outputs": [
    {
     "name": "stdout",
     "output_type": "stream",
     "text": [
      "(8.0, 53.666666666666664]                   3\n",
      "(53.666666666666664, 99.33333333333333]     2\n",
      "(99.33333333333333, 145.0]                  2\n",
      "(145.0, 190.66666666666666]                 3\n",
      "(190.66666666666666, 236.33333333333331]    1\n",
      "(236.33333333333331, 282.0]                 8\n",
      "dtype: int64\n",
      "(8.0, 53.666666666666664]                   0.157895\n",
      "(53.666666666666664, 99.33333333333333]     0.105263\n",
      "(99.33333333333333, 145.0]                  0.105263\n",
      "(145.0, 190.66666666666666]                 0.157895\n",
      "(190.66666666666666, 236.33333333333331]    0.052632\n",
      "(236.33333333333331, 282.0]                 0.421053\n",
      "dtype: float64\n"
     ]
    },
    {
     "data": {
      "text/plain": [
       "[[Interval(8.0, 53.666666666666664, closed='right'), 3, 0.15789473684210525],\n",
       " [Interval(53.666666666666664, 99.33333333333333, closed='right'),\n",
       "  2,\n",
       "  0.10526315789473684],\n",
       " [Interval(99.33333333333333, 145.0, closed='right'), 2, 0.10526315789473684],\n",
       " [Interval(145.0, 190.66666666666666, closed='right'), 3, 0.15789473684210525],\n",
       " [Interval(190.66666666666666, 236.33333333333331, closed='right'),\n",
       "  1,\n",
       "  0.05263157894736842],\n",
       " [Interval(236.33333333333331, 282.0, closed='right'), 8, 0.42105263157894735]]"
      ]
     },
     "execution_count": 12,
     "metadata": {},
     "output_type": "execute_result"
    }
   ],
   "source": [
    "intervals = pd.interval_range(start = min_value, end = max_value, periods = 6, closed = 'right')\n",
    "abs_freq = pd.cut(Dataset, intervals).value_counts(sort = False, normalize = False)\n",
    "print(abs_freq)\n",
    "rel_freq = pd.cut(Dataset, intervals).value_counts(sort = False, normalize = True)\n",
    "print(rel_freq)\n",
    "table = [[i,a,r] for i,a,r in zip(intervals,abs_freq.get_values(), rel_freq.get_values())]\n",
    "table"
   ]
  },
  {
   "cell_type": "code",
   "execution_count": 13,
   "metadata": {},
   "outputs": [
    {
     "data": {
      "text/html": [
       "<div>\n",
       "<style scoped>\n",
       "    .dataframe tbody tr th:only-of-type {\n",
       "        vertical-align: middle;\n",
       "    }\n",
       "\n",
       "    .dataframe tbody tr th {\n",
       "        vertical-align: top;\n",
       "    }\n",
       "\n",
       "    .dataframe thead th {\n",
       "        text-align: right;\n",
       "    }\n",
       "</style>\n",
       "<table border=\"1\" class=\"dataframe\">\n",
       "  <thead>\n",
       "    <tr style=\"text-align: right;\">\n",
       "      <th></th>\n",
       "      <th>Absolute Frequency</th>\n",
       "      <th>Relative Frequency</th>\n",
       "    </tr>\n",
       "    <tr>\n",
       "      <th>Interval</th>\n",
       "      <th></th>\n",
       "      <th></th>\n",
       "    </tr>\n",
       "  </thead>\n",
       "  <tbody>\n",
       "    <tr>\n",
       "      <th>(8.0, 53.666666666666664]</th>\n",
       "      <td>3</td>\n",
       "      <td>0.157895</td>\n",
       "    </tr>\n",
       "    <tr>\n",
       "      <th>(53.666666666666664, 99.33333333333333]</th>\n",
       "      <td>2</td>\n",
       "      <td>0.105263</td>\n",
       "    </tr>\n",
       "    <tr>\n",
       "      <th>(99.33333333333333, 145.0]</th>\n",
       "      <td>2</td>\n",
       "      <td>0.105263</td>\n",
       "    </tr>\n",
       "    <tr>\n",
       "      <th>(145.0, 190.66666666666666]</th>\n",
       "      <td>3</td>\n",
       "      <td>0.157895</td>\n",
       "    </tr>\n",
       "    <tr>\n",
       "      <th>(190.66666666666666, 236.33333333333331]</th>\n",
       "      <td>1</td>\n",
       "      <td>0.052632</td>\n",
       "    </tr>\n",
       "    <tr>\n",
       "      <th>(236.33333333333331, 282.0]</th>\n",
       "      <td>8</td>\n",
       "      <td>0.421053</td>\n",
       "    </tr>\n",
       "  </tbody>\n",
       "</table>\n",
       "</div>"
      ],
      "text/plain": [
       "                                          Absolute Frequency  \\\n",
       "Interval                                                       \n",
       "(8.0, 53.666666666666664]                                  3   \n",
       "(53.666666666666664, 99.33333333333333]                    2   \n",
       "(99.33333333333333, 145.0]                                 2   \n",
       "(145.0, 190.66666666666666]                                3   \n",
       "(190.66666666666666, 236.33333333333331]                   1   \n",
       "(236.33333333333331, 282.0]                                8   \n",
       "\n",
       "                                          Relative Frequency  \n",
       "Interval                                                      \n",
       "(8.0, 53.666666666666664]                           0.157895  \n",
       "(53.666666666666664, 99.33333333333333]             0.105263  \n",
       "(99.33333333333333, 145.0]                          0.105263  \n",
       "(145.0, 190.66666666666666]                         0.157895  \n",
       "(190.66666666666666, 236.33333333333331]            0.052632  \n",
       "(236.33333333333331, 282.0]                         0.421053  "
      ]
     },
     "execution_count": 13,
     "metadata": {},
     "output_type": "execute_result"
    }
   ],
   "source": [
    "frequency = pd.DataFrame(data = table, columns = [\"Interval\",\"Absolute Frequency\",\"Relative Frequency\"]).set_index(\"Interval\")\n",
    "frequency"
   ]
  },
  {
   "cell_type": "markdown",
   "metadata": {},
   "source": [
    "# The histogram\n"
   ]
  },
  {
   "cell_type": "markdown",
   "metadata": {},
   "source": [
    "## Background\n",
    "You are given a dataset.\n"
   ]
  },
  {
   "cell_type": "code",
   "execution_count": 14,
   "metadata": {},
   "outputs": [
    {
     "data": {
      "text/plain": [
       "0      13\n",
       "1      68\n",
       "2     165\n",
       "3     193\n",
       "4     216\n",
       "5     228\n",
       "6     361\n",
       "7     470\n",
       "8     500\n",
       "9     529\n",
       "10    544\n",
       "11    602\n",
       "12    647\n",
       "13    692\n",
       "14    696\n",
       "15    699\n",
       "16    809\n",
       "17    892\n",
       "18    899\n",
       "19    936\n",
       "dtype: int64"
      ]
     },
     "execution_count": 14,
     "metadata": {},
     "output_type": "execute_result"
    }
   ],
   "source": [
    "Dataset = pd.Series([13, 68, 165, 193, 216, 228, 361, 470, 500, 529, 544, 602, 647, 692, 696, 699, 809, 892, 899, 936])\n",
    "Dataset"
   ]
  },
  {
   "cell_type": "markdown",
   "metadata": {},
   "source": [
    "### Task 1\n",
    "Construct a frequency distribution table.\n"
   ]
  },
  {
   "cell_type": "code",
   "execution_count": 49,
   "metadata": {},
   "outputs": [
    {
     "data": {
      "text/html": [
       "<div>\n",
       "<style scoped>\n",
       "    .dataframe tbody tr th:only-of-type {\n",
       "        vertical-align: middle;\n",
       "    }\n",
       "\n",
       "    .dataframe tbody tr th {\n",
       "        vertical-align: top;\n",
       "    }\n",
       "\n",
       "    .dataframe thead th {\n",
       "        text-align: right;\n",
       "    }\n",
       "</style>\n",
       "<table border=\"1\" class=\"dataframe\">\n",
       "  <thead>\n",
       "    <tr style=\"text-align: right;\">\n",
       "      <th></th>\n",
       "      <th>Absolute Frequency</th>\n",
       "      <th>Relative Frequency</th>\n",
       "    </tr>\n",
       "    <tr>\n",
       "      <th>Interval</th>\n",
       "      <th></th>\n",
       "      <th></th>\n",
       "    </tr>\n",
       "  </thead>\n",
       "  <tbody>\n",
       "    <tr>\n",
       "      <th>(12.077, 105.3]</th>\n",
       "      <td>2</td>\n",
       "      <td>0.10</td>\n",
       "    </tr>\n",
       "    <tr>\n",
       "      <th>(105.3, 197.6]</th>\n",
       "      <td>2</td>\n",
       "      <td>0.10</td>\n",
       "    </tr>\n",
       "    <tr>\n",
       "      <th>(197.6, 289.9]</th>\n",
       "      <td>2</td>\n",
       "      <td>0.10</td>\n",
       "    </tr>\n",
       "    <tr>\n",
       "      <th>(289.9, 382.2]</th>\n",
       "      <td>1</td>\n",
       "      <td>0.05</td>\n",
       "    </tr>\n",
       "    <tr>\n",
       "      <th>(382.2, 474.5]</th>\n",
       "      <td>1</td>\n",
       "      <td>0.05</td>\n",
       "    </tr>\n",
       "    <tr>\n",
       "      <th>(474.5, 566.8]</th>\n",
       "      <td>3</td>\n",
       "      <td>0.15</td>\n",
       "    </tr>\n",
       "    <tr>\n",
       "      <th>(566.8, 659.1]</th>\n",
       "      <td>2</td>\n",
       "      <td>0.10</td>\n",
       "    </tr>\n",
       "    <tr>\n",
       "      <th>(659.1, 751.4]</th>\n",
       "      <td>3</td>\n",
       "      <td>0.15</td>\n",
       "    </tr>\n",
       "    <tr>\n",
       "      <th>(751.4, 843.7]</th>\n",
       "      <td>1</td>\n",
       "      <td>0.05</td>\n",
       "    </tr>\n",
       "    <tr>\n",
       "      <th>(843.7, 936.0]</th>\n",
       "      <td>3</td>\n",
       "      <td>0.15</td>\n",
       "    </tr>\n",
       "  </tbody>\n",
       "</table>\n",
       "</div>"
      ],
      "text/plain": [
       "                 Absolute Frequency  Relative Frequency\n",
       "Interval                                               \n",
       "(12.077, 105.3]                   2                0.10\n",
       "(105.3, 197.6]                    2                0.10\n",
       "(197.6, 289.9]                    2                0.10\n",
       "(289.9, 382.2]                    1                0.05\n",
       "(382.2, 474.5]                    1                0.05\n",
       "(474.5, 566.8]                    3                0.15\n",
       "(566.8, 659.1]                    2                0.10\n",
       "(659.1, 751.4]                    3                0.15\n",
       "(751.4, 843.7]                    1                0.05\n",
       "(843.7, 936.0]                    3                0.15"
      ]
     },
     "execution_count": 49,
     "metadata": {},
     "output_type": "execute_result"
    }
   ],
   "source": [
    "abs_freq = pd.cut(Dataset, 10).value_counts(sort = False, normalize = False)\n",
    "rel_freq = pd.cut(Dataset, 10).value_counts(sort = False, normalize = True)\n",
    "table = [[i,a,r] for i,a,r in zip(abs_freq.keys(),abs_freq.get_values(), rel_freq.get_values())]\n",
    "frequency = pd.DataFrame(data = table, columns = [\"Interval\",\"Absolute Frequency\",\"Relative Frequency\"]).set_index(\"Interval\")\n",
    "frequency"
   ]
  },
  {
   "cell_type": "markdown",
   "metadata": {},
   "source": [
    "### Task 2\n",
    "Create a histogram with 10 intervals, based on your dataset.\n"
   ]
  },
  {
   "cell_type": "code",
   "execution_count": 54,
   "metadata": {},
   "outputs": [
    {
     "data": {
      "text/plain": [
       "<matplotlib.axes._subplots.AxesSubplot at 0x2445486cf98>"
      ]
     },
     "execution_count": 54,
     "metadata": {},
     "output_type": "execute_result"
    },
    {
     "data": {
      "image/png": "[encoded data removed]",
      "text/plain": [
       "<Figure size 432x288 with 1 Axes>"
      ]
     },
     "metadata": {
      "needs_background": "light"
     },
     "output_type": "display_data"
    }
   ],
   "source": [
    "Dataset.hist(bins = 10,  edgecolor=\"w\")"
   ]
  },
  {
   "cell_type": "code",
   "execution_count": 55,
   "metadata": {},
   "outputs": [
    {
     "data": {
      "text/plain": [
       "<matplotlib.axes._subplots.AxesSubplot at 0x244548d4c50>"
      ]
     },
     "execution_count": 55,
     "metadata": {},
     "output_type": "execute_result"
    },
    {
     "data": {
      "image/png": "[encoded data removed]",
      "text/plain": [
       "<Figure size 432x288 with 1 Axes>"
      ]
     },
     "metadata": {
      "needs_background": "light"
     },
     "output_type": "display_data"
    }
   ],
   "source": [
    "import seaborn as sns\n",
    "sns.distplot(Dataset, bins=10, kde=False, rug=True, hist_kws=dict(edgecolor=\"w\", linewidth=2))"
   ]
  },
  {
   "cell_type": "code",
   "execution_count": null,
   "metadata": {},
   "outputs": [],
   "source": []
  }
 ],
 "metadata": {
  "kernelspec": {
   "display_name": "Python 3",
   "language": "python",
   "name": "python3"
  },
  "language_info": {
   "codemirror_mode": {
    "name": "ipython",
    "version": 3
   },
   "file_extension": ".py",
   "mimetype": "text/x-python",
   "name": "python",
   "nbconvert_exporter": "python",
   "pygments_lexer": "ipython3",
   "version": "3.6.8"
  }
 },
 "nbformat": 4,
 "nbformat_minor": 2
}
